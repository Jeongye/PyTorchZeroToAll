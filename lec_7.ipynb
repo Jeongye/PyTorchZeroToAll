{
  "nbformat": 4,
  "nbformat_minor": 0,
  "metadata": {
    "colab": {
      "name": "lec_7.ipynb",
      "provenance": [],
      "collapsed_sections": [],
      "mount_file_id": "1L1XPuklv5PUIibXKlsylv6KkIgJB6h-3",
      "authorship_tag": "ABX9TyNkeLhYyGTFgtzVVidQE/Uf",
      "include_colab_link": true
    },
    "kernelspec": {
      "name": "python3",
      "display_name": "Python 3"
    },
    "language_info": {
      "name": "python"
    }
  },
  "cells": [
    {
      "cell_type": "markdown",
      "metadata": {
        "id": "view-in-github",
        "colab_type": "text"
      },
      "source": [
        "<a href=\"https://colab.research.google.com/github/Jeongye/PyTorchZeroToAll/blob/master/lec_7.ipynb\" target=\"_parent\"><img src=\"https://colab.research.google.com/assets/colab-badge.svg\" alt=\"Open In Colab\"/></a>"
      ]
    },
    {
      "cell_type": "code",
      "metadata": {
        "id": "GNCpTFwl2RMs"
      },
      "source": [
        "import torch\n",
        "import torch.nn.functional as F\n",
        "import numpy as np\n",
        "from torch.autograd import Variable\n",
        "from google.colab import drive\n",
        "\n",
        "drive.mount('\\content\\drive')    # 왜징.... 안됑...\n",
        "xy = np.loadtxt('/content/contentdrive/MyDrive/Colab Notebooks/diabetes.csv', delimiter=',', dtype=np.float32)\n",
        "x_data = Variable(torch.from_numpy(xy[:, 0:-1]))    # ,(everything) 0:-1(zero to n-1 columns)\n",
        "y_data = Variable(torch.from_numpy(xy[:, [-1]]))    # [-1](only last column)\n",
        "\n",
        "class Model(torch.nn.Module):\n",
        "  def __init__(self):\n",
        "    super(Model, self).__init__()\n",
        "     # input size is 8, output size is 1\n",
        "    self.l1 = torch.nn.Linear(8, 6)\n",
        "    self.l2 = torch.nn.Linear(6, 4)\n",
        "    self.l3 = torch.nn.Linear(4, 1)\n",
        "\n",
        "    self.sigmoid = torch.nn.Sigmoid()   \n",
        "  \n",
        "  def forward(self, x):\n",
        "    out1 = self.sigmoid(self.l1(x))\n",
        "    out2 = self.sigmoid(self.l2(out1))\n",
        "    y_pred = self.sigmoid(self.l3(out2))\n",
        "    return y_pred\n",
        "\n",
        "# our model\n",
        "model = Model()\n",
        "\n",
        "\n",
        "# in the SGD constructor will contain the learnable parameters of the two\n",
        "# nn.Linear modules which are members of the model.\n",
        "criterion = torch.nn.BCELoss(size_average=True)    # binary cross entrophy\n",
        "optimizer = torch.optim.SGD(model.parameters(), lr=0.1)\n",
        "\n",
        "\n",
        "# Training loop\n",
        "for epoch in range(100):\n",
        "  y_pred = model(x_data)\n",
        "  #print(epoch, y_pred)\n",
        "\n",
        "  # Compute and print loss\n",
        "  loss = criterion(y_pred, y_data)\n",
        "  print(epoch, loss.data.item())    # item()!!!!\n",
        "\n",
        "  # Zero gradients, perform a backward pass, and update the weights.\n",
        "  optimizer.zero_grad()\n",
        "  loss.backward()\n",
        "  optimizer.step()    # to update variable"
      ],
      "execution_count": null,
      "outputs": []
    }
  ]
}