{
  "nbformat": 4,
  "nbformat_minor": 0,
  "metadata": {
    "colab": {
      "name": "lec_4.ipynb",
      "provenance": [],
      "collapsed_sections": [],
      "authorship_tag": "ABX9TyOwj8F9XuBOPIq2h+GuKxZs",
      "include_colab_link": true
    },
    "kernelspec": {
      "name": "python3",
      "display_name": "Python 3"
    },
    "language_info": {
      "name": "python"
    }
  },
  "cells": [
    {
      "cell_type": "markdown",
      "metadata": {
        "id": "view-in-github",
        "colab_type": "text"
      },
      "source": [
        "<a href=\"https://colab.research.google.com/github/Jeongye/PyTorchZeroToAll/blob/master/lec_4.ipynb\" target=\"_parent\"><img src=\"https://colab.research.google.com/assets/colab-badge.svg\" alt=\"Open In Colab\"/></a>"
      ]
    },
    {
      "cell_type": "code",
      "metadata": {
        "id": "ehAr3Atg5U32",
        "colab": {
          "base_uri": "https://localhost:8080/"
        },
        "outputId": "0a150976-4e7f-4916-959e-0d0a7da1e735"
      },
      "source": [
        "import torch\n",
        "from torch.autograd import Variable\n",
        "\n",
        "\n",
        "x_data = [1.0, 2.0, 3.0]\n",
        "y_data = [2.0, 4.0, 6.0]\n",
        "\n",
        "w = Variable(torch.Tensor([1.0]), requires_grad=True)    # any random value\n",
        "\n",
        "\n",
        "def forward(x):\n",
        "  return x * w\n",
        "\n",
        "\n",
        "def loss(x, y):\n",
        "  y_pred = forward(x)\n",
        "  return (y_pred - y) ** 2\n",
        "\n",
        "\n",
        "# Before training\n",
        "print(\"predict (before training)\", 3, forward(3).data[0])    # w가 variable이 되어 실제 데이터 값이 .data에 저장됨\n",
        "\n",
        "#Training loop\n",
        "for epoch in range(10):\n",
        "  for x_val, y_val in zip(x_data, y_data):\n",
        "    l = loss(x_val, y_val)\n",
        "    l.backward()\n",
        "    # dloss/dw = w.grad.data\n",
        "    print(\"\\tgrad:\", x_val, y_val, w.grad.data[0])    # w가 variable이 되어 실제 데이터 값이 .data에 저장됨\n",
        "    w.data = w.data - 0.01 * w.grad.data    # learning rate is 0.01\n",
        "\n",
        "    # Manually zero the gradients after updating weights\n",
        "    w.grad.data.zero_()\n",
        "     \n",
        "  print(\"progress:\", epoch, l.data[0])\n",
        "\n",
        "# After training\n",
        "print(\"predict (after training)\", \"3 hours\", forward(3).data[0])"
      ],
      "execution_count": 2,
      "outputs": [
        {
          "output_type": "stream",
          "text": [
            "predict (before training) 3 tensor(3.)\n",
            "\tgrad: 1.0 2.0 tensor(-2.)\n",
            "\tgrad: 2.0 4.0 tensor(-7.8400)\n",
            "\tgrad: 3.0 6.0 tensor(-16.2288)\n",
            "progress: 0 tensor(7.3159)\n",
            "\tgrad: 1.0 2.0 tensor(-1.4786)\n",
            "\tgrad: 2.0 4.0 tensor(-5.7962)\n",
            "\tgrad: 3.0 6.0 tensor(-11.9981)\n",
            "progress: 1 tensor(3.9988)\n",
            "\tgrad: 1.0 2.0 tensor(-1.0932)\n",
            "\tgrad: 2.0 4.0 tensor(-4.2852)\n",
            "\tgrad: 3.0 6.0 tensor(-8.8704)\n",
            "progress: 2 tensor(2.1857)\n",
            "\tgrad: 1.0 2.0 tensor(-0.8082)\n",
            "\tgrad: 2.0 4.0 tensor(-3.1681)\n",
            "\tgrad: 3.0 6.0 tensor(-6.5580)\n",
            "progress: 3 tensor(1.1946)\n",
            "\tgrad: 1.0 2.0 tensor(-0.5975)\n",
            "\tgrad: 2.0 4.0 tensor(-2.3422)\n",
            "\tgrad: 3.0 6.0 tensor(-4.8484)\n",
            "progress: 4 tensor(0.6530)\n",
            "\tgrad: 1.0 2.0 tensor(-0.4417)\n",
            "\tgrad: 2.0 4.0 tensor(-1.7316)\n",
            "\tgrad: 3.0 6.0 tensor(-3.5845)\n",
            "progress: 5 tensor(0.3569)\n",
            "\tgrad: 1.0 2.0 tensor(-0.3266)\n",
            "\tgrad: 2.0 4.0 tensor(-1.2802)\n",
            "\tgrad: 3.0 6.0 tensor(-2.6500)\n",
            "progress: 6 tensor(0.1951)\n",
            "\tgrad: 1.0 2.0 tensor(-0.2414)\n",
            "\tgrad: 2.0 4.0 tensor(-0.9465)\n",
            "\tgrad: 3.0 6.0 tensor(-1.9592)\n",
            "progress: 7 tensor(0.1066)\n",
            "\tgrad: 1.0 2.0 tensor(-0.1785)\n",
            "\tgrad: 2.0 4.0 tensor(-0.6997)\n",
            "\tgrad: 3.0 6.0 tensor(-1.4485)\n",
            "progress: 8 tensor(0.0583)\n",
            "\tgrad: 1.0 2.0 tensor(-0.1320)\n",
            "\tgrad: 2.0 4.0 tensor(-0.5173)\n",
            "\tgrad: 3.0 6.0 tensor(-1.0709)\n",
            "progress: 9 tensor(0.0319)\n",
            "predict (after training) 3 hours tensor(5.8536)\n"
          ],
          "name": "stdout"
        }
      ]
    }
  ]
}